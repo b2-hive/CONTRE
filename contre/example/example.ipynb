{
 "cells": [
  {
   "cell_type": "markdown",
   "metadata": {},
   "source": [
    "# CONTRE: Example\n",
    "\n",
    "This is an abstract and easy example to show the usage of the CONTRE Continuum Reweighting."
   ]
  },
  {
   "cell_type": "code",
   "execution_count": null,
   "metadata": {},
   "outputs": [],
   "source": [
    "import numpy as np\n",
    "import pandas as pd\n",
    "import matplotlib.pyplot as plt\n",
    "from root_pandas import read_root"
   ]
  },
  {
   "cell_type": "markdown",
   "metadata": {},
   "source": [
    "## Generation of Files\n",
    "\n",
    "In this abstract example, we have the following components and variables:  \n",
    "- `componentA` (anlaouge to Continuum MC), \n",
    "- `componentB` (only on resonance).\n",
    "- `variable1` (badly simulated for `componentA`)\n",
    "- `variable2`,\n",
    "- `__candidate__` (`\"__candidate__\" == 0`) is selected),\n",
    "- `EventType` (To define \"signal\" and \"background\" for the classifier)\n",
    "\n",
    "In the following cell these samples are generated and stored in `example_input`."
   ]
  },
  {
   "cell_type": "code",
   "execution_count": null,
   "metadata": {},
   "outputs": [],
   "source": [
    "size_mc = 5e6\n",
    "size_data = 5e5\n",
    "frac_a = 0.8\n",
    "frac_b = 1 - frac_a\n",
    "frac_offres = 0.5\n",
    "\n",
    "%run -i generate_data.py"
   ]
  },
  {
   "cell_type": "code",
   "execution_count": null,
   "metadata": {},
   "outputs": [],
   "source": [
    "print(size_data*frac_a*0.7)"
   ]
  },
  {
   "cell_type": "code",
   "execution_count": null,
   "metadata": {},
   "outputs": [],
   "source": [
    "componentA.head()"
   ]
  },
  {
   "cell_type": "markdown",
   "metadata": {},
   "source": [
    "### Histogram of the example data:  \n",
    "You can also look at the other variables."
   ]
  },
  {
   "cell_type": "code",
   "execution_count": null,
   "metadata": {},
   "outputs": [],
   "source": [
    "variable=\"variable2\"\n",
    "plot_histograms(variable)  # this function is defined in generate_data.py"
   ]
  },
  {
   "cell_type": "markdown",
   "metadata": {},
   "source": [
    "## Setting the parameters\n",
    "\n",
    "To start the training you need to set the parameters by writing them to a json file.\n",
    "You can look at the example file `example_parameters.json`which is explained in the following.\n",
    "\n",
    "1. Define the `\"name\"` and and `\"result_path\"` parameters. You can find a list of your results in `result_path/name=<name>/`\n",
    "1. Define the paths of your on- and off-resonance files as lists.\n",
    "    - All files given in `off_res_files` will be used for training.  \n",
    "    - Files the training will be applied to all `on_res_files` and weights are calculated. In principle, only `componentA` is reweighted, but you can compare the classifier output between on resonance data and MC if you include `data`. `componentB` is not needed.\n",
    "2. In `\"training_parameters\"` you can define:\n",
    "    - `test_size` and `train_size`. Your ntuple files will be split into a test- and a train sample with e.g. 90% data in the train- and 10% data in the test sample.\n",
    "    - `training_variables`. The variables used for training. The variables used should be eventbased. If you use other variables, be aware that the programm selects allways `__candidate__ == 0` for training.  \n",
    "\n",
    "`example_parameters.json` contains:\n",
    "```json\n",
    "{\n",
    "    \"name\": \"my_example\",\n",
    "    \"result_path\": \"example_output\",\n",
    "    \n",
    "\n",
    "    \"off_res_files\": [\n",
    "        \"example/data_offres.root\",\n",
    "        \"example/componentA_offres.root\"\n",
    "    ]\n",
    "\n",
    "    \"training_parameters\": {\n",
    "        \"train_size\": 0.9,\n",
    "        \"test_size\": 0.1,\n",
    "        \"training_variables\": [\n",
    "            \"variable1\"\n",
    "        ]\n",
    "    },\n",
    "\n",
    "    \"reweighting_parameters\": {\n",
    "        \"normalize_to\": 0\n",
    "    }\n",
    "}\n",
    "```"
   ]
  },
  {
   "cell_type": "markdown",
   "metadata": {},
   "source": [
    "## Starting the training\n",
    "The Training is implemented with `b2luigi`. Edit the following runfile to start the training.\n",
    "\n",
    "`run_example.py` contains:  \n",
    "\n",
    "```python\n",
    "import json\n",
    "import b2luigi\n",
    "from contre.validation import DelegateValidation\n",
    "\n",
    "parameter_file = 'example_parameters.json'\n",
    "with open(parameter_file) as file:\n",
    "    parameters = json.load(file)\n",
    "\n",
    "b2luigi.set_setting(\n",
    "    \"result_path\",\n",
    "    parameters.get(\"result_path\"),\n",
    ")\n",
    "\n",
    "b2luigi.process(\n",
    "    DelegateValidation(\n",
    "        name=parameters.get(\"name\"),\n",
    "        parameter_file=parameter_file)\n",
    ")\n",
    "\n",
    "```"
   ]
  },
  {
   "cell_type": "markdown",
   "metadata": {},
   "source": [
    "Remove your output if you want to rerun the training."
   ]
  },
  {
   "cell_type": "code",
   "execution_count": null,
   "metadata": {},
   "outputs": [],
   "source": [
    "! rm -r example_output/"
   ]
  },
  {
   "cell_type": "code",
   "execution_count": null,
   "metadata": {
    "scrolled": true
   },
   "outputs": [],
   "source": [
    "%run run_example.py"
   ]
  },
  {
   "cell_type": "markdown",
   "metadata": {},
   "source": [
    "## Finding and using the output\n",
    "All Output files are stored in /results_json"
   ]
  },
  {
   "cell_type": "code",
   "execution_count": null,
   "metadata": {},
   "outputs": [],
   "source": [
    "with open(\"example_output/name=my_example/validation_results.json\", \"r\") as f:\n",
    "    results = json.load(f)\n",
    "print(results)\n",
    "test_samples = [read_root(sample) for sample in results[\"test_samples\"]]\n",
    "print(results[\"validation_weights\"])\n",
    "validation_weights = read_root(results[\"validation_weights\"])"
   ]
  },
  {
   "cell_type": "code",
   "execution_count": null,
   "metadata": {},
   "outputs": [],
   "source": [
    "with open(\"example_output/name=my_example/results.json\", \"r\") as f:\n",
    "    results = json.load(f)\n",
    "print(results)\n",
    "print(results[\"weights\"])\n",
    "weights = read_root(results[\"weights\"])"
   ]
  },
  {
   "cell_type": "code",
   "execution_count": null,
   "metadata": {},
   "outputs": [],
   "source": [
    "results"
   ]
  },
  {
   "cell_type": "markdown",
   "metadata": {},
   "source": [
    "The weights are stored in one file ordered in the same order as the list of the test samples (on_res_files). In this case the first rows belong to the data testsample. They are not needed for reweighting. All other weights belong to to the testsample of `componentA-offres`"
   ]
  },
  {
   "cell_type": "code",
   "execution_count": null,
   "metadata": {},
   "outputs": [],
   "source": [
    "print(len(validation_weights))\n",
    "len(data_offres) + len(componentA)\n"
   ]
  },
  {
   "cell_type": "code",
   "execution_count": null,
   "metadata": {},
   "outputs": [],
   "source": [
    "data_offres_test = test_samples[0]\n",
    "componentA_offres_test = test_samples[1]"
   ]
  },
  {
   "cell_type": "code",
   "execution_count": null,
   "metadata": {},
   "outputs": [],
   "source": [
    "print(len(data_offres_test), len(componentA_offres_test))"
   ]
  },
  {
   "cell_type": "code",
   "execution_count": null,
   "metadata": {},
   "outputs": [],
   "source": [
    "a = validation_weights[len(data_offres_test):]#, \"weight\"]# .values\n",
    "a = a['weight'].values\n",
    "componentA_offres_test[\"contre_weight\"] = a\n",
    "\n",
    "b = weights[len(data):]\n",
    "b = b['weight'].values\n",
    "componentA[\"contre_weight\"] = b"
   ]
  },
  {
   "cell_type": "markdown",
   "metadata": {},
   "source": [
    "I wrote an importfunction for weights in `import_results.`"
   ]
  },
  {
   "cell_type": "markdown",
   "metadata": {},
   "source": [
    "### Normalizing the weights\n",
    "The weights must be normalized to match the ratio of data and mc used for training.\n",
    "\n",
    "Because the train samples were 0.9 of the sample for all samples we can normalize to `size_data/size_mc`."
   ]
  },
  {
   "cell_type": "code",
   "execution_count": null,
   "metadata": {},
   "outputs": [],
   "source": [
    "componentA.head()"
   ]
  },
  {
   "cell_type": "code",
   "execution_count": null,
   "metadata": {},
   "outputs": [],
   "source": [
    "componentA_offres_test.head()"
   ]
  },
  {
   "cell_type": "code",
   "execution_count": null,
   "metadata": {},
   "outputs": [],
   "source": [
    "weight_mean = np.mean(componentA_offres_test[\"contre_weight\"])\n",
    "print(weight_mean)\n",
    "# componentA_offres_test[\"contre_weight\"] *= size_data / size_mc / weight_mean\n",
    "print(size_data/size_mc)"
   ]
  },
  {
   "cell_type": "code",
   "execution_count": null,
   "metadata": {},
   "outputs": [],
   "source": [
    "fig, ax = plt.subplots(1, 2, figsize=[12.8, 4.8])\n",
    "\n",
    "# on resonance histogram\n",
    "count, edges = np.histogram(\n",
    "    data[variable], bins=30, range=(0, 1))\n",
    "\n",
    "bin_width = (edges[1] - edges[0]) / 2\n",
    "bin_mids = edges[:-1]+bin_width\n",
    "ax[0].plot(\n",
    "    bin_mids, count, color=\"black\", marker='.', ls=\"\",\n",
    "    label=\"data\")\n",
    "\n",
    "w = size_data/size_mc\n",
    "ax[0].hist(\n",
    "    [componentA[variable], componentB[variable]],\n",
    "    bins=30, range=(0, 1), stacked=True,\n",
    "    weights=[componentA[\"contre_weight\"], [w]*len(componentB)],\n",
    "    label=[\"componentA\\n(reweighted)\", \"componentB\"])\n",
    "\n",
    "ax[0].set_title(\"On resonance\")\n",
    "ax[0].legend()\n",
    "\n",
    "# off resonance histogram\n",
    "count, edges = np.histogram(\n",
    "    data_offres_test[variable], bins=30, range=(0, 1))\n",
    "ax[1].plot(\n",
    "    bin_mids, count, color=\"black\", marker='.', ls=\"\")\n",
    "\n",
    "ax[1].hist(\n",
    "    componentA_offres_test[variable], bins=30, range=(0, 1),\n",
    "    weights=componentA_offres_test[\"contre_weight\"],\n",
    ")\n",
    "\n",
    "ax[1].set_title(\"Off resonance, test samples\")\n",
    "\n",
    "plt.show()"
   ]
  },
  {
   "cell_type": "code",
   "execution_count": null,
   "metadata": {},
   "outputs": [],
   "source": []
  }
 ],
 "metadata": {
  "kernelspec": {
   "display_name": "Python 3 (Belle2)",
   "language": "python",
   "name": "python3"
  },
  "language_info": {
   "codemirror_mode": {
    "name": "ipython",
    "version": 3
   },
   "file_extension": ".py",
   "mimetype": "text/x-python",
   "name": "python",
   "nbconvert_exporter": "python",
   "pygments_lexer": "ipython3",
   "version": "3.6.9"
  }
 },
 "nbformat": 4,
 "nbformat_minor": 2
}

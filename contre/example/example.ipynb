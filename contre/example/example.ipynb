{
 "cells": [
  {
   "cell_type": "markdown",
   "metadata": {},
   "source": [
    "# CONTRE: Example\n",
    "\n",
    "**Run this notebook in the folder `contre/example`.**  \n",
    "This is an abstract and easy example to show the usage of the CONTRE Continuum Reweighting."
   ]
  },
  {
   "cell_type": "code",
   "execution_count": null,
   "metadata": {},
   "outputs": [],
   "source": [
    "import json\n",
    "import numpy as np\n",
    "import pandas as pd\n",
    "import matplotlib.pyplot as plt\n",
    "from root_pandas import read_root\n",
    "from contre.example.generate_data import generate_data"
   ]
  },
  {
   "cell_type": "markdown",
   "metadata": {},
   "source": [
    "## Generation of Files\n",
    "\n",
    "In this abstract example, we have the following components and variables:  \n",
    "- `componentA` (anlaouge to Continuum MC), \n",
    "- `componentB` (only on resonance).\n",
    "- `variable1` (badly simulated for `componentA`)\n",
    "- `variable2`,\n",
    "- `__candidate__` (`\"__candidate__\" == 0`) is selected),\n",
    "- `EventType` (To define \"signal\" and \"background\" for the classifier)\n",
    "\n",
    "In the following cell these samples are generated and stored in `example_input`."
   ]
  },
  {
   "cell_type": "code",
   "execution_count": null,
   "metadata": {},
   "outputs": [],
   "source": [
    "size_mc=500000\n",
    "size_data=10000\n",
    "size_mc_offres=150000\n",
    "size_data_offres=8000\n",
    "frac_a=0.8\n",
    "\n",
    "data, componentA, componentB, data_offres, componentA_offres = generate_data(\n",
    "    size_mc, size_data, size_mc_offres, size_data_offres, frac_a)"
   ]
  },
  {
   "cell_type": "markdown",
   "metadata": {},
   "source": [
    "### Histogram of the example data:  \n",
    "You can also look at the other variables."
   ]
  },
  {
   "cell_type": "code",
   "execution_count": null,
   "metadata": {},
   "outputs": [],
   "source": [
    "variable=\"variable1\"\n",
    "# variable=\"variable2\""
   ]
  },
  {
   "cell_type": "code",
   "execution_count": null,
   "metadata": {},
   "outputs": [],
   "source": [
    "# Scaling the MC to match the data\n",
    "w = size_data / size_mc\n",
    "w_offres = size_data_offres / size_mc_offres"
   ]
  },
  {
   "cell_type": "code",
   "execution_count": null,
   "metadata": {},
   "outputs": [],
   "source": [
    "fig, ax = plt.subplots(1, 2, figsize=[12.8, 4.8])\n",
    "\n",
    "# on-resonance histogram\n",
    "count, edges = np.histogram(\n",
    "    data[variable], bins=30, range=(0, 1))\n",
    "\n",
    "bin_width = edges[1] - edges[0]\n",
    "bin_mids = edges[:-1]+bin_width\n",
    "ax[0].plot(\n",
    "    bin_mids, count, color=\"black\", marker='.', ls=\"\",\n",
    "    label=\"data\")\n",
    "\n",
    "ax[0].hist(\n",
    "    [componentA[variable], componentB[variable]],\n",
    "    bins=30, range=(0, 1), stacked=True,\n",
    "    weights=[[w]*len(componentA), [w]*len(componentB)],\n",
    "    label=[\"componentA\", \"componentB\"])\n",
    "\n",
    "ax[0].set_title(\"On resonance\")\n",
    "ax[0].legend()\n",
    "\n",
    "# off-resonance histogram\n",
    "count, edges = np.histogram(\n",
    "    data_offres[variable], bins=30, range=(0, 1))\n",
    "ax[1].plot(\n",
    "    bin_mids, count, color=\"black\", marker='.', ls=\"\")\n",
    "\n",
    "ax[1].hist(\n",
    "    componentA_offres[variable], bins=30, range=(0, 1),\n",
    "    weights=[w_offres]*len(componentA_offres))\n",
    "\n",
    "ax[1].set_title(\"Off resonance\")\n",
    "\n",
    "plt.show()"
   ]
  },
  {
   "cell_type": "markdown",
   "metadata": {},
   "source": [
    "ComponentA has a large disagreement to data. I represents the Continuum MC and will be reweighted in the following."
   ]
  },
  {
   "cell_type": "markdown",
   "metadata": {},
   "source": [
    "## Setting the parameters\n",
    "\n",
    "To start the training you need to set the parameters by writing them to a `yaml` file.\n",
    "You can look at the example file `example_parameters.yaml`."
   ]
  },
  {
   "cell_type": "markdown",
   "metadata": {},
   "source": [
    "### `example_parameters.yaml` \n",
    "\n",
    "The file contains:\n",
    "\n",
    "```yaml\n",
    "# you can find your results in <result_path>/name=<name>\n",
    "name: my_example\n",
    "result_path: example_output\n",
    "\n",
    "# path to all off-resoance data and MC ntuple files\n",
    "off_res_files: \n",
    "    - example_input/data_offres.root\n",
    "    - example_input/componentA_offres.root\n",
    "\n",
    "# path to on-resonance MC to be reweighted (i.e. Continuum)\n",
    "on_res_files:\n",
    "    - example_input/componentA.root\n",
    "\n",
    "# name of the tree in the ntuple root file\n",
    "tree_name: variables\n",
    "\n",
    "# List of the variables used for training\n",
    "training_variables:\n",
    "    - variable1\n",
    "\n",
    "# to adjust the parameters of the training\n",
    "training_parameters: \n",
    "    train_size: 0.9\n",
    "    test_size: 0.1\n",
    "    # the following variables change the fastBDT hyperparameters\n",
    "    # they can be removed\n",
    "    nTrees: 100\n",
    "    shrinkage: 0.2\n",
    "    nLevels: 3\n",
    "```"
   ]
  },
  {
   "cell_type": "markdown",
   "metadata": {},
   "source": [
    "### Additional Comments\n",
    "\n",
    "1. Files:\n",
    "    - All files given in `off_res_files` will be used for training.\n",
    "    - The training will be applied to __all `on_res_files`__. Weights will be calculated. You only need to give the MC components that can be found in off-resonance MC. (In this example, only `componentA`)\n",
    "2. In `\"training_parameters\"` you can define:\n",
    "    - `test_size` and `train_size`. Your ntuple files will be split into a test- and a train sample with e.g. 90% data in the train- and 10% data in the test sample.\n",
    "    - Hyper-parameters of the BDT can be adjusted. (these options can be removed.)\n",
    "\n",
    "3. `training_variables`: The variables used for training. The variables used should be eventbased. If you use other variables, be aware that the programm selects allways `__candidate__ == 0` for training.\n",
    "\n",
    "4. Normalisation of the weights:\n",
    "    - the reweighted MC Sample will correspond to the luminosity of the used off-resonance Data"
   ]
  },
  {
   "cell_type": "markdown",
   "metadata": {},
   "source": [
    "## Starting the training\n",
    "The training is implemented with `b2luigi`. With the following runfile the training can be started.\n",
    "\n",
    "`run_example.py` contains:  \n",
    "\n",
    "```python\n",
    "import yaml\n",
    "import b2luigi\n",
    "from contre.reweighting import DelegateReweighting\n",
    "\n",
    "parameter_file = 'example_parameters.yaml'\n",
    "with open(parameter_file) as f:\n",
    "    parameters = yaml.load(f)\n",
    "\n",
    "b2luigi.set_setting(\n",
    "    \"result_path\",\n",
    "    parameters.get(\"result_path\"),\n",
    ")\n",
    "\n",
    "b2luigi.process(\n",
    "    DelegateReweighting(\n",
    "        name=parameters.get(\"name\"),\n",
    "        parameter_file=parameter_file)\n",
    ")\n",
    "\n",
    "```"
   ]
  },
  {
   "cell_type": "markdown",
   "metadata": {},
   "source": [
    "Remove your output if you want to rerun the training and your input files changed:"
   ]
  },
  {
   "cell_type": "code",
   "execution_count": null,
   "metadata": {},
   "outputs": [],
   "source": [
    "! rm -r example_output/"
   ]
  },
  {
   "cell_type": "code",
   "execution_count": null,
   "metadata": {
    "scrolled": true
   },
   "outputs": [],
   "source": [
    "%run run_example.py"
   ]
  },
  {
   "cell_type": "markdown",
   "metadata": {},
   "source": [
    "## Finding and using the output\n",
    "Output files of the reweigted test samples are listed in `<output_folder>/name=<name>o/validation_resluts.json`.  \n",
    "Weights for the on-resonance files are listed in the same folder in the file `results.json`."
   ]
  },
  {
   "cell_type": "code",
   "execution_count": null,
   "metadata": {},
   "outputs": [],
   "source": [
    "with open(\"example_output/name=my_example/validation_results.json\", \"r\") as f:\n",
    "    validation_results = json.load(f)\n",
    "test_samples = [read_root(sample) for sample in validation_results[\"test_samples\"]]\n",
    "validation_weights = read_root(validation_results[\"validation_weights\"])"
   ]
  },
  {
   "cell_type": "code",
   "execution_count": null,
   "metadata": {},
   "outputs": [],
   "source": [
    "with open(\"example_output/name=my_example/results.json\", \"r\") as f:\n",
    "    results = json.load(f)\n",
    "weights = read_root(results[\"weights\"])"
   ]
  },
  {
   "cell_type": "markdown",
   "metadata": {},
   "source": [
    "### Weights\n",
    "\n",
    "- Stored in one file,\n",
    "- ordered in the same order as the list of the on-resonance files (or test samples),\n",
    "- for validation weights, the first part belongs to the off-resonance __data__ test samples, \n",
    "- the eweighted MC samples correspond to the luminosity of the used off-resonance Data. \n",
    "- contain three columns:\n",
    "    - q: Classifier output\n",
    "    - EventType: 0 for MC, 1 for Data\n",
    "    - weight: the weight belonging to a correspondig event in the reweighted sample"
   ]
  },
  {
   "cell_type": "code",
   "execution_count": null,
   "metadata": {},
   "outputs": [],
   "source": [
    "weights.head()"
   ]
  },
  {
   "cell_type": "code",
   "execution_count": null,
   "metadata": {},
   "outputs": [],
   "source": [
    "data_offres_test = test_samples[0]\n",
    "componentA_offres_test = test_samples[1]"
   ]
  },
  {
   "cell_type": "code",
   "execution_count": null,
   "metadata": {},
   "outputs": [],
   "source": [
    "a = validation_weights[len(data_offres_test):]\n",
    "a = a['weight'].values\n",
    "componentA_offres_test[\"contre_weight\"] = a\n",
    "\n",
    "b = weights\n",
    "b = b['weight'].values\n",
    "componentA[\"contre_weight\"] = b"
   ]
  },
  {
   "cell_type": "markdown",
   "metadata": {},
   "source": [
    "### Scaling of the weights\n",
    "The reweighted test samples match the luminosity of the off-resonance data and don't need to be scaled anymore.\n",
    "\n",
    "The reweighted on-resonance MC sample has the integrated Luminosity   \n",
    "$$L_{data,off-res.}\\cdot \\frac{L_{MC,on-res.}}{L_{MC,off-res.}}\\quad,$$ \n",
    "and needs to be scaled to match the on-resonance Data."
   ]
  },
  {
   "cell_type": "code",
   "execution_count": null,
   "metadata": {},
   "outputs": [],
   "source": [
    "componentA[\"contre_weight\"] *= size_data / size_data_offres * size_mc_offres / size_mc"
   ]
  },
  {
   "cell_type": "code",
   "execution_count": null,
   "metadata": {},
   "outputs": [],
   "source": [
    "fig, ax = plt.subplots(1, 2, figsize=[12.8, 4.8])\n",
    "\n",
    "# on-resonance histogram\n",
    "count, edges = np.histogram(\n",
    "    data[variable], bins=30, range=(0, 1))\n",
    "\n",
    "bin_width = (edges[1] - edges[0]) / 2\n",
    "bin_mids = edges[:-1]+bin_width\n",
    "ax[0].plot(\n",
    "    bin_mids, count, color=\"black\", marker='.', ls=\"\",\n",
    "    label=\"data\")\n",
    "\n",
    "w = size_data/size_mc\n",
    "ax[0].hist(\n",
    "    [componentA[variable], componentB[variable]],\n",
    "    bins=30, range=(0, 1), stacked=True,\n",
    "    weights=[componentA[\"contre_weight\"], [w]*len(componentB)],\n",
    "    label=[\"componentA\\n(reweighted)\", \"componentB\"])\n",
    "\n",
    "ax[0].set_title(\"On resonance\")\n",
    "ax[0].legend()\n",
    "\n",
    "# off-resonance histogram\n",
    "count, edges = np.histogram(\n",
    "    data_offres_test[variable], bins=30, range=(0, 1))\n",
    "ax[1].plot(\n",
    "    bin_mids, count, color=\"black\", marker='.', ls=\"\")\n",
    "\n",
    "ax[1].hist(\n",
    "    componentA_offres_test[variable], bins=30, range=(0, 1),\n",
    "    weights=componentA_offres_test[\"contre_weight\"],\n",
    ")\n",
    "\n",
    "ax[1].set_title(\"Off resonance, test samples\")\n",
    "\n",
    "plt.show()"
   ]
  }
 ],
 "metadata": {
  "kernelspec": {
   "display_name": "Python 3 (Belle2)",
   "language": "python",
   "name": "python3"
  },
  "language_info": {
   "codemirror_mode": {
    "name": "ipython",
    "version": 3
   },
   "file_extension": ".py",
   "mimetype": "text/x-python",
   "name": "python",
   "nbconvert_exporter": "python",
   "pygments_lexer": "ipython3",
   "version": "3.6.9"
  }
 },
 "nbformat": 4,
 "nbformat_minor": 2
}

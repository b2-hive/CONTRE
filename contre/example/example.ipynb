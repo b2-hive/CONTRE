{
 "cells": [
  {
   "cell_type": "markdown",
   "metadata": {},
   "source": [
    "# CONTRE: Example\n",
    "\n",
    "This is an abstract and easy example to show the usage of the CONTRE Continuum Reweighting."
   ]
  },
  {
   "cell_type": "code",
   "execution_count": null,
   "metadata": {},
   "outputs": [],
   "source": [
    "import numpy as np\n",
    "import pandas as pd\n",
    "import matplotlib.pyplot as plt"
   ]
  },
  {
   "cell_type": "markdown",
   "metadata": {},
   "source": [
    "## Generation of Files\n",
    "\n",
    "In this abstract example, we have the following components and variables:  \n",
    "- `componentA`, \n",
    "- `componentB` (only on resonance).\n",
    "- `variable1` (badly simulated for `componentA`)\n",
    "- `variable2`.\n",
    "\n",
    "In the following cell these samples are generated and stored in `example_input`."
   ]
  },
  {
   "cell_type": "code",
   "execution_count": null,
   "metadata": {},
   "outputs": [],
   "source": [
    "%run -i generate_data.py"
   ]
  },
  {
   "cell_type": "markdown",
   "metadata": {},
   "source": [
    "### Histogram of the example data:  \n",
    "You can also look at `\"variable2\"`."
   ]
  },
  {
   "cell_type": "code",
   "execution_count": null,
   "metadata": {
    "scrolled": false
   },
   "outputs": [],
   "source": [
    "variable = \"variable1\"\n",
    "fig, ax = plt.subplots(1,2, figsize=[12.8, 4.8])\n",
    "\n",
    "# on resonance histogram\n",
    "count, edges = np.histogram(\n",
    "    data[variable], bins=30, range=(0,1))\n",
    "\n",
    "bin_width=edges[1] - edges[0]\n",
    "bin_mids = edges[:-1]+bin_width\n",
    "ax[0].plot(\n",
    "    bin_mids, count, color=\"black\", marker='.', ls=\"\",\n",
    "    label=\"data\") \n",
    "\n",
    "w = size_data/size_mc\n",
    "ax[0].hist(\n",
    "    [componentA[variable], componentB[variable]],\n",
    "    bins=30, range=(0,1), stacked=True,\n",
    "    weights=[[w]*len(componentA), [w]*len(componentB)],\n",
    "    label=[\"componentA\", \"componentB\"])\n",
    "\n",
    "ax[0].set_title(\"On resonance\")\n",
    "ax[0].legend()\n",
    "\n",
    "# off resonance histogram\n",
    "count, edges = np.histogram(\n",
    "    data_offres[variable], bins=30, range=(0,1))\n",
    "ax[1].plot(\n",
    "    bin_mids, count, color=\"black\", marker='.', ls=\"\")\n",
    "\n",
    "ax[1].hist(\n",
    "    componentA_offres[variable], bins=30, range=(0,1),\n",
    "    weights=[w]*len(componentA_offres))\n",
    "\n",
    "ax[1].set_title(\"Off resonance\")\n",
    "\n",
    "plt.show()"
   ]
  },
  {
   "cell_type": "markdown",
   "metadata": {},
   "source": [
    "## Setting the parameters\n",
    "\n",
    "To start the training you need to set the parameters by writing them to a json file.\n",
    "An example `example_parameters.json` file is created in the following cells."
   ]
  },
  {
   "cell_type": "markdown",
   "metadata": {},
   "source": [
    "## Starting the training\n",
    "The Training is implemented with `b2luigi`. Set a result path and run the process command as shown below.\n",
    "\n",
    "```python\n",
    "test(a) = c\n",
    "len(a)\n",
    "```"
   ]
  },
  {
   "cell_type": "markdown",
   "metadata": {},
   "source": [
    "## Finding and using the output"
   ]
  },
  {
   "cell_type": "code",
   "execution_count": null,
   "metadata": {},
   "outputs": [],
   "source": []
  }
 ],
 "metadata": {
  "kernelspec": {
   "display_name": "Python 3 (Belle2)",
   "language": "python",
   "name": "python3"
  },
  "language_info": {
   "codemirror_mode": {
    "name": "ipython",
    "version": 3
   },
   "file_extension": ".py",
   "mimetype": "text/x-python",
   "name": "python",
   "nbconvert_exporter": "python",
   "pygments_lexer": "ipython3",
   "version": "3.6.9"
  }
 },
 "nbformat": 4,
 "nbformat_minor": 2
}

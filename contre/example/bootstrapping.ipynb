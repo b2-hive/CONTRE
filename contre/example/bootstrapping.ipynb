{
 "cells": [
  {
   "cell_type": "markdown",
   "metadata": {},
   "source": [
    "# Example: Bootstrapping\n",
    "\n",
    "**Execute this notebook in `contre/example`.**\n",
    "\n",
    "Statistical fluctuations in the Data sample lead to systematic uncertainties in the reweighted MC sample. This uncertainty can be determined by bootstrapping:\n",
    "\n",
    "The train sample is resampled. Different trainings are performed on the resampled train samples."
   ]
  },
  {
   "cell_type": "code",
   "execution_count": null,
   "metadata": {},
   "outputs": [],
   "source": [
    "import json\n",
    "from root_pandas import read_root"
   ]
  },
  {
   "cell_type": "code",
   "execution_count": null,
   "metadata": {},
   "outputs": [],
   "source": [
    "with open(\"example_output/name=my_example/bootstrap_results.json\") as result_file:\n",
    "    bootstrap_results = json.load(result_file)"
   ]
  },
  {
   "cell_type": "markdown",
   "metadata": {},
   "source": [
    "## Import data samples"
   ]
  },
  {
   "cell_type": "code",
   "execution_count": null,
   "metadata": {},
   "outputs": [],
   "source": [
    "data = read_root(\"example_input/data.root\")\n",
    "componentA = read_root(\"example_input/componentA.root\")\n",
    "componentB = read_root(\"example_input/componentB.root\")\n",
    "data_offres = read_root(\"example_input/data_offres.root\")\n",
    "componentA_offres = read_root(\"example_input/componentA_offres.root\")"
   ]
  },
  {
   "cell_type": "code",
   "execution_count": null,
   "metadata": {},
   "outputs": [],
   "source": [
    "test_samples = []\n",
    "test_sample_list = bootstrap_results[\"test_samples\"]\n",
    "\n",
    "data_offres_test = read_root(test_sample_list[0])\n",
    "componentA_offres_test = read_root(test_sample_list[1])"
   ]
  },
  {
   "cell_type": "markdown",
   "metadata": {},
   "source": [
    "## Import and scale weights"
   ]
  },
  {
   "cell_type": "code",
   "execution_count": null,
   "metadata": {},
   "outputs": [],
   "source": []
  },
  {
   "cell_type": "code",
   "execution_count": null,
   "metadata": {},
   "outputs": [],
   "source": []
  },
  {
   "cell_type": "code",
   "execution_count": null,
   "metadata": {},
   "outputs": [],
   "source": []
  }
 ],
 "metadata": {
  "kernelspec": {
   "display_name": "Python 3 (Belle2)",
   "language": "python",
   "name": "python3"
  },
  "language_info": {
   "codemirror_mode": {
    "name": "ipython",
    "version": 3
   },
   "file_extension": ".py",
   "mimetype": "text/x-python",
   "name": "python",
   "nbconvert_exporter": "python",
   "pygments_lexer": "ipython3",
   "version": "3.6.9"
  }
 },
 "nbformat": 4,
 "nbformat_minor": 2
}

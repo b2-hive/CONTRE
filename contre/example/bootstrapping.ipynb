{
 "cells": [
  {
   "cell_type": "markdown",
   "metadata": {},
   "source": [
    "# Example: Bootstrapping\n",
    "\n",
    "**Execute this notebook in `contre/example`.**\n",
    "\n",
    "Statistical fluctuations in the Data sample lead to systematic uncertainties in the reweighted MC sample. This uncertainty can be determined by bootstrapping:\n",
    "\n",
    "The train sample is *resampled*. Different trainings are performed on the resampled train samples.\n",
    "\n",
    "**About this notebook:**  \n",
    "The first part consists of the import of the samples and the weights. Afterwards the bootstrapping is started as a `b2luigi` task and the standard devaiation is calculated from the different trainings."
   ]
  },
  {
   "cell_type": "code",
   "execution_count": null,
   "metadata": {},
   "outputs": [],
   "source": [
    "import json\n",
    "import numpy as np\n",
    "import matplotlib.pyplot as plt\n",
    "from root_pandas import read_root"
   ]
  },
  {
   "cell_type": "markdown",
   "metadata": {},
   "source": [
    "## Imports from `example.ipynb`\n",
    "The following cells import and redo the reweighting in the example.\n",
    "\n",
    "### Import samples in `example_input/`"
   ]
  },
  {
   "cell_type": "code",
   "execution_count": null,
   "metadata": {},
   "outputs": [],
   "source": [
    "size_mc=5e6\n",
    "size_data=1e5\n",
    "size_mc_offres=15e5\n",
    "size_data_offres=8e4\n",
    "frac_a=0.8"
   ]
  },
  {
   "cell_type": "code",
   "execution_count": null,
   "metadata": {},
   "outputs": [],
   "source": [
    "# Scaling the MC to match the data\n",
    "w = size_data / size_mc\n",
    "w_offres = size_data_offres / size_mc_offres"
   ]
  },
  {
   "cell_type": "code",
   "execution_count": null,
   "metadata": {},
   "outputs": [],
   "source": [
    "data = read_root(\"example_input/data.root\")\n",
    "componentA = read_root(\"example_input/componentA.root\")\n",
    "componentB = read_root(\"example_input/componentB.root\")\n",
    "data_offres = read_root(\"example_input/data_offres.root\")\n",
    "componentA_offres = read_root(\"example_input/componentA_offres.root\")"
   ]
  },
  {
   "cell_type": "markdown",
   "metadata": {},
   "source": [
    "### Import test samples and weights"
   ]
  },
  {
   "cell_type": "code",
   "execution_count": null,
   "metadata": {},
   "outputs": [],
   "source": [
    "with open(\"example_output/name=my_example/results.json\", \"r\") as f:\n",
    "    results = json.load(f)\n",
    "weights = read_root(results[\"weights\"])"
   ]
  },
  {
   "cell_type": "code",
   "execution_count": null,
   "metadata": {},
   "outputs": [],
   "source": [
    "with open(\"example_output/name=my_example/validation_results.json\", \"r\") as f:\n",
    "    validation_results = json.load(f)\n",
    "test_samples = [read_root(sample) for sample in validation_results[\"test_samples\"]]\n",
    "validation_weights = read_root(validation_results[\"validation_weights\"])"
   ]
  },
  {
   "cell_type": "code",
   "execution_count": null,
   "metadata": {},
   "outputs": [],
   "source": [
    "test_samples = []\n",
    "test_sample_list = validation_results[\"test_samples\"]\n",
    "\n",
    "data_offres_test = read_root(test_sample_list[0])\n",
    "componentA_offres_test = read_root(test_sample_list[1])"
   ]
  },
  {
   "cell_type": "code",
   "execution_count": null,
   "metadata": {},
   "outputs": [],
   "source": [
    "a = validation_weights[len(data_offres_test):]\n",
    "a = a['weight'].values\n",
    "componentA_offres_test[\"contre_weight\"] = a\n",
    "\n",
    "b = weights\n",
    "b = b['weight'].values\n",
    "componentA[\"contre_weight\"] = b"
   ]
  },
  {
   "cell_type": "code",
   "execution_count": null,
   "metadata": {},
   "outputs": [],
   "source": [
    "# Rescaling of the on-res. reweighted sample\n",
    "componentA[\"contre_weight\"] *= size_data / size_data_offres * size_mc_offres / size_mc"
   ]
  },
  {
   "cell_type": "markdown",
   "metadata": {},
   "source": [
    "## Bootstrapping\n",
    "\n",
    "The example includes the following steps:\n",
    "\n",
    "1. Start a set of n trainings from a runfile\n",
    "2. Import the results\n",
    "3. Histogram from the n sets of weights\n",
    "4. Calculate the standard deviation\n",
    "\n",
    "\n",
    "### Start the training"
   ]
  },
  {
   "cell_type": "code",
   "execution_count": null,
   "metadata": {},
   "outputs": [],
   "source": [
    "%run run_bootstrapping.py"
   ]
  },
  {
   "cell_type": "markdown",
   "metadata": {},
   "source": [
    "### Import the results"
   ]
  },
  {
   "cell_type": "code",
   "execution_count": null,
   "metadata": {},
   "outputs": [],
   "source": [
    "with open(\"example_output/name=my_example/bootstrap_results.json\") as result_file:\n",
    "    bootstrap_results = json.load(result_file)"
   ]
  },
  {
   "cell_type": "code",
   "execution_count": null,
   "metadata": {},
   "outputs": [],
   "source": [
    "for i, weight_file in enumerate(bootstrap_results[\"validation_weights_list\"]):\n",
    "    c = read_root(weight_file)\n",
    "    c = c[\"weight\"][len(data_offres_test):].values\n",
    "    componentA_offres_test[\"weight_\"+str(i)] = c\n",
    "    \n",
    "for i, weight_file in enumerate(bootstrap_results[\"weights_list\"]):\n",
    "    c = read_root(weight_file)\n",
    "    c = c[\"weight\"].values\n",
    "    componentA[\"weight_\"+str(i)] = c"
   ]
  },
  {
   "cell_type": "markdown",
   "metadata": {},
   "source": [
    "### Calculate Histograms from the n sets of weights"
   ]
  },
  {
   "cell_type": "code",
   "execution_count": null,
   "metadata": {},
   "outputs": [],
   "source": [
    "variable=\"variable1\""
   ]
  },
  {
   "cell_type": "code",
   "execution_count": null,
   "metadata": {},
   "outputs": [],
   "source": [
    "offres_histogram_list = []\n",
    "for i in range(10):\n",
    "    offres_histogram_list.append(np.histogram(\n",
    "        componentA_offres_test[variable], bins=30, range=(0,1),\n",
    "        weights=componentA_offres_test[\"weight_\"+str(i)])[0])\n",
    "# transpose list of histograms to list of bins\n",
    "offres_bin_list = np.transpose(offres_histogram_list)\n",
    "offres_stds = []\n",
    "for b in offres_bin_list:\n",
    "    offres_stds.append(np.std(b))"
   ]
  },
  {
   "cell_type": "code",
   "execution_count": null,
   "metadata": {},
   "outputs": [],
   "source": [
    "histogram_list = []\n",
    "for i in range(10):\n",
    "    histogram_list.append(np.histogram(\n",
    "        componentA[variable], bins=30, range=(0,1),\n",
    "        weights=componentA[\"weight_\"+str(i)])[0])\n",
    "# transpose list of histograms to list of bins\n",
    "bin_list = np.transpose(histogram_list)\n",
    "stds = []\n",
    "for b in bin_list:\n",
    "    stds.append(np.std(b))"
   ]
  },
  {
   "cell_type": "code",
   "execution_count": null,
   "metadata": {},
   "outputs": [],
   "source": [
    "# Scale the standart deviation (analouges to the scaling of the on-res. weights)\n",
    "stds = np.array(stds) * size_data / size_data_offres * size_mc_offres / size_mc"
   ]
  },
  {
   "cell_type": "markdown",
   "metadata": {},
   "source": [
    "### Plot the result"
   ]
  },
  {
   "cell_type": "code",
   "execution_count": null,
   "metadata": {
    "scrolled": true
   },
   "outputs": [],
   "source": [
    "fig, ax = plt.subplots(1, 2, figsize=[12.8, 4.8])\n",
    "\n",
    "# on-resonance histogram\n",
    "count, edges = np.histogram(\n",
    "    data[variable], bins=30, range=(0, 1))\n",
    "\n",
    "bin_width = (edges[1] - edges[0]) / 2\n",
    "bin_mids = edges[:-1]+bin_width\n",
    "ax[0].plot(\n",
    "    bin_mids, count, color=\"black\", marker='.', ls=\"\",\n",
    "    label=\"data\")\n",
    "\n",
    "w = size_data/size_mc\n",
    "mc_count, edges, patches = ax[0].hist(\n",
    "    [componentA[variable], componentB[variable]],\n",
    "    bins=30, range=(0, 1), stacked=True,\n",
    "    weights=[componentA[\"contre_weight\"], [w]*len(componentB)],\n",
    "    label=[\"componentA\\n(reweighted)\", \"componentB\"])\n",
    "\n",
    "ax[0].bar(bin_mids, bottom=mc_count[0], height=stds, width=1/30, color=\"red\", label=\"sys. unc.\")\n",
    "\n",
    "\n",
    "ax[0].set_title(\"On resonance\")\n",
    "ax[0].legend()\n",
    "\n",
    "# off-resonance histogram\n",
    "count, edges = np.histogram(\n",
    "    data_offres_test[variable], bins=30, range=(0, 1))\n",
    "ax[1].plot(\n",
    "    bin_mids, count, color=\"black\", marker='.', ls=\"\")\n",
    "\n",
    "mc_count, edges, patches = ax[1].hist(\n",
    "    componentA_offres_test[variable], bins=30, range=(0, 1),\n",
    "    weights=componentA_offres_test[\"contre_weight\"],\n",
    ")\n",
    "\n",
    "ax[1].bar(bin_mids, bottom=mc_count, height=offres_stds, width=1/30, color=\"red\", label=\"sys. unc.\")\n",
    "\n",
    "ax[1].set_title(\"Off resonance, test samples\")\n",
    "\n",
    "plt.show()"
   ]
  }
 ],
 "metadata": {
  "kernelspec": {
   "display_name": "Python 3 (Belle2)",
   "language": "python",
   "name": "python3"
  },
  "language_info": {
   "codemirror_mode": {
    "name": "ipython",
    "version": 3
   },
   "file_extension": ".py",
   "mimetype": "text/x-python",
   "name": "python",
   "nbconvert_exporter": "python",
   "pygments_lexer": "ipython3",
   "version": "3.6.9"
  }
 },
 "nbformat": 4,
 "nbformat_minor": 2
}
